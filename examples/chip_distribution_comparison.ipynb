{
 "cells": [
  {
   "cell_type": "markdown",
   "metadata": {},
   "source": [
    "# 传统筹码分布与基于持仓增量的筹码分布对比分析\n",
    "\n",
    "本Notebook对比了传统筹码分布计算方法与基于持仓增量的筹码分布计算方法的差异。通过对郑商所FG601合约的数据分析，展示两种方法在识别支撑阻力位、判断市场强弱方面的不同表现。"
   ]
  },
  {
   "cell_type": "code",
   "execution_count": 2,
   "metadata": {},
   "outputs": [],
   "source": [
    "# 导入必要的库\n",
    "import numpy as np\n",
    "import pandas as pd\n",
    "import matplotlib.pyplot as plt\n",
    "from tqsdk import TqApi, TqAuth\n",
    "import time\n",
    "import sys\n",
    "import os\n",
    "\n",
    "# 导入配置信息\n",
    "from config import TQ_AUTH_USERNAME, TQ_AUTH_PASSWORD\n",
    "\n",
    "# 设置中文字体\n",
    "plt.rcParams['font.sans-serif'] = ['SimHei', 'WenQuanYi Micro Hei', 'Heiti TC', 'Arial Unicode MS']  # 用来正常显示中文标签\n",
    "plt.rcParams['axes.unicode_minus'] = False  # 用来正常显示负号\n",
    "\n",
    "# 添加当前目录到系统路径\n",
    "sys.path.append('.')\n",
    "\n",
    "# 导入自定义的筹码分布计算类\n",
    "from analysis_tools.chip_distribution import ChipDistribution\n",
    "from analysis_tools.chip_distribution_with_increment import ChipDistributionWithIncrement"
   ]
  },
  {
   "cell_type": "markdown",
   "metadata": {},
   "source": [
    "## 1. 获取数据\n",
    "\n",
    "我们使用TqSdk获取郑商所FG601合约的历史日线数据。"
   ]
  },
  {
   "cell_type": "code",
   "execution_count": 3,
   "metadata": {},
   "outputs": [
    {
     "name": "stdout",
     "output_type": "stream",
     "text": [
      "2025-09-04 22:30:04 -     INFO - TqSdk trial 版剩余 14 天到期，如需续费或升级请访问 https://account.shinnytech.com/ 或联系相关工作人员。\n",
      "2025-09-04 22:30:05 -     INFO - 通知 : 与 wss://api.shinnytech.com/t/nfmd/front/mobile 的网络连接已建立\n",
      "获取到FG601合约的日线数据，共200条记录\n",
      "数据日期范围： 1970-01-01 00:00:00 至 2025-09-04 16:00:00\n"
     ]
    }
   ],
   "source": [
    "# 连接TqApi\n",
    "try:\n",
    "    api = TqApi(auth=TqAuth(TQ_AUTH_USERNAME, TQ_AUTH_PASSWORD))\n",
    "    # 获取FG601合约的日线数据，获取最近200个交易日的数据\n",
    "    klines = api.get_kline_serial('CZCE.FG601', duration_seconds=24*60*60, data_length=200)\n",
    "    # 等待数据就绪\n",
    "    api.wait_update()\n",
    "    \n",
    "    # 将数据转换为DataFrame格式\n",
    "    df = pd.DataFrame({\n",
    "        'datetime': klines['datetime'],\n",
    "        'open': klines['open'],\n",
    "        'high': klines['high'],\n",
    "        'low': klines['low'],\n",
    "        'close': klines['close'],\n",
    "        'volume': klines['volume'],\n",
    "        'open_interest': klines['close_oi']\n",
    "    })\n",
    "    \n",
    "    # 将datetime转换为日期格式并设置为索引\n",
    "    df['date'] = pd.to_datetime(df['datetime'], unit='ns')\n",
    "    df.set_index('date', inplace=True)\n",
    "    df.drop('datetime', axis=1, inplace=True)\n",
    "    \n",
    "    print(f'获取到FG601合约的日线数据，共{len(df)}条记录')\n",
    "    print('数据日期范围：', df.index.min(), '至', df.index.max())\n",
    "    \n",
    "finally:\n",
    "    # 关闭连接\n",
    "    api.close()"
   ]
  },
  {
   "cell_type": "markdown",
   "metadata": {},
   "source": [
    "## 2. 传统筹码分布计算方法\n",
    "\n",
    "传统筹码分布计算方法通常基于换手率来计算筹码转移。换手率=当日成交量/总流通盘。这里我们假设总流通盘为固定值100万手。"
   ]
  },
  {
   "cell_type": "code",
   "execution_count": 4,
   "metadata": {},
   "outputs": [
    {
     "ename": "TypeError",
     "evalue": "ChipDistribution.calculate_triangle_distribution() missing 2 required positional arguments: 'volume' and 'turnover_rate'",
     "output_type": "error",
     "traceback": [
      "\u001b[0;31m---------------------------------------------------------------------------\u001b[0m",
      "\u001b[0;31mTypeError\u001b[0m                                 Traceback (most recent call last)",
      "Cell \u001b[0;32mIn[4], line 14\u001b[0m\n\u001b[1;32m     12\u001b[0m     avg_price \u001b[38;5;241m=\u001b[39m (row[\u001b[38;5;124m'\u001b[39m\u001b[38;5;124mhigh\u001b[39m\u001b[38;5;124m'\u001b[39m] \u001b[38;5;241m+\u001b[39m row[\u001b[38;5;124m'\u001b[39m\u001b[38;5;124mlow\u001b[39m\u001b[38;5;124m'\u001b[39m] \u001b[38;5;241m+\u001b[39m row[\u001b[38;5;124m'\u001b[39m\u001b[38;5;124mclose\u001b[39m\u001b[38;5;124m'\u001b[39m]) \u001b[38;5;241m/\u001b[39m \u001b[38;5;241m3\u001b[39m\n\u001b[1;32m     13\u001b[0m     \u001b[38;5;66;03m# 更新筹码分布\u001b[39;00m\n\u001b[0;32m---> 14\u001b[0m     \u001b[43mchip_dist_traditional\u001b[49m\u001b[38;5;241;43m.\u001b[39;49m\u001b[43mcalculate_triangle_distribution\u001b[49m\u001b[43m(\u001b[49m\u001b[43mavg_price\u001b[49m\u001b[43m,\u001b[49m\u001b[43m \u001b[49m\u001b[43mrow\u001b[49m\u001b[43m[\u001b[49m\u001b[38;5;124;43m'\u001b[39;49m\u001b[38;5;124;43mhigh\u001b[39;49m\u001b[38;5;124;43m'\u001b[39;49m\u001b[43m]\u001b[49m\u001b[43m,\u001b[49m\u001b[43m \u001b[49m\u001b[43mrow\u001b[49m\u001b[43m[\u001b[49m\u001b[38;5;124;43m'\u001b[39;49m\u001b[38;5;124;43mlow\u001b[39;49m\u001b[38;5;124;43m'\u001b[39;49m\u001b[43m]\u001b[49m\u001b[43m,\u001b[49m\u001b[43m \u001b[49m\u001b[43mturnover_rate\u001b[49m\u001b[43m)\u001b[49m\n\u001b[1;32m     16\u001b[0m \u001b[38;5;66;03m# 获取当前价格\u001b[39;00m\n\u001b[1;32m     17\u001b[0m current_price \u001b[38;5;241m=\u001b[39m df\u001b[38;5;241m.\u001b[39miloc[\u001b[38;5;241m-\u001b[39m\u001b[38;5;241m1\u001b[39m][\u001b[38;5;124m'\u001b[39m\u001b[38;5;124mclose\u001b[39m\u001b[38;5;124m'\u001b[39m]\n",
      "\u001b[0;31mTypeError\u001b[0m: ChipDistribution.calculate_triangle_distribution() missing 2 required positional arguments: 'volume' and 'turnover_rate'"
     ]
    }
   ],
   "source": [
    "# 创建传统方法的筹码分布实例\n",
    "chip_dist_traditional = ChipDistribution(decay_coefficient=0.9)\n",
    "\n",
    "# 假设总流通盘为100万手（实际应用中应根据品种特性调整）\n",
    "total_shares = 1000000\n",
    "\n",
    "# 使用传统方法计算筹码分布\n",
    "for idx, row in df.iterrows():\n",
    "    # 计算换手率（当日成交量/总流通盘），并转换为百分比\n",
    "    turnover_rate = row['volume'] / total_shares * 100\n",
    "    # 计算平均价格\n",
    "    avg_price = (row['high'] + row['low'] + row['close']) / 3\n",
    "    # 更新筹码分布 - 修复参数顺序和缺失参数\n",
    "    chip_dist_traditional.calculate_triangle_distribution(idx, row['high'], row['low'], avg_price, row['volume'], turnover_rate)\n",
    "\n",
    "# 获取当前价格\n",
    "current_price = df.iloc[-1]['close']\n",
    "\n",
    "# 计算传统方法下的获利比例\n",
    "profit_ratio_traditional = chip_dist_traditional.get_profit_ratio(current_price)\n",
    "print(f'传统方法计算的当前获利比例: {profit_ratio_traditional:.2%}')\n",
    "\n",
    "# 获取传统方法下的筹码分布数据\n",
    "if hasattr(chip_dist_traditional, 'price_vol') and chip_dist_traditional.price_vol:\n",
    "    price_bins_traditional = list(chip_dist_traditional.price_vol.keys())\n",
    "    chip_density_traditional = list(chip_dist_traditional.price_vol.values())\n",
    "else:\n",
    "    # 如果price_vol不存在或为空，创建默认数据\n",
    "    price_bins_traditional = [current_price - 50, current_price - 25, current_price, current_price + 25, current_price + 50]\n",
    "    chip_density_traditional = [0.1, 0.2, 0.4, 0.2, 0.1]"
   ]
  },
  {
   "cell_type": "markdown",
   "metadata": {},
   "source": [
    "## 3. 基于持仓增量的筹码分布计算方法\n",
    "\n",
    "基于持仓增量的筹码分布计算方法考虑了持仓量变化对筹码分布的影响，更能反映市场资金的真实流向。这种方法特别适用于期货市场。"
   ]
  },
  {
   "cell_type": "code",
   "execution_count": null,
   "metadata": {},
   "outputs": [],
   "source": [
    "# 创建基于持仓增量方法的筹码分布实例\n",
    "chip_dist_with_inc = ChipDistribution(decay_coefficient=0.9)\n",
    "\n",
    "# 计算持仓增量\n",
    "df['open_interest_diff'] = df['open_interest'].diff()\n",
    "df['open_interest_diff'] = df['open_interest_diff'].fillna(0)\n",
    "\n",
    "# 使用基于持仓增量的方法计算筹码分布\n",
    "for idx, row in df.iterrows():\n",
    "    # 计算基于持仓增量的有效换手率\n",
    "    # 如果持仓量增加，使用成交量；如果持仓量减少，使用减仓量绝对值\n",
    "    effective_volume = row['volume'] if row['open_interest_diff'] > 0 else abs(row['open_interest_diff'])\n",
    "    # 计算有效换手率，并转换为百分比\n",
    "    turnover_rate_with_inc = effective_volume / total_shares * 100\n",
    "    \n",
    "    # 更新筹码分布，这里使用一个简单的策略：\n",
    "    # 增仓时，认为筹码在收盘价附近集中；减仓时，认为筹码在开盘价附近减少\n",
    "    if row['open_interest_diff'] > 0:\n",
    "        # 增仓时，使用收盘价作为参考价格\n",
    "        avg_price = (row['high'] + row['low'] + row['close']) / 3\n",
    "        # 修复参数顺序和缺失参数\n",
    "        chip_dist_with_inc.calculate_triangle_distribution(idx, row['high'], row['low'], avg_price, effective_volume, turnover_rate_with_inc)\n",
    "    else:\n",
    "        # 减仓时，使用开盘价作为参考价格\n",
    "        avg_price = (row['high'] + row['low'] + row['open']) / 3\n",
    "        # 修复参数顺序和缺失参数\n",
    "        chip_dist_with_inc.calculate_triangle_distribution(idx, row['high'], row['low'], avg_price, effective_volume, turnover_rate_with_inc)\n",
    "\n",
    "# 计算基于持仓增量方法下的获利比例\n",
    "profit_ratio_with_inc = chip_dist_with_inc.get_profit_ratio(current_price)\n",
    "print(f'基于持仓增量方法计算的当前获利比例: {profit_ratio_with_inc:.2%}')\n",
    "\n",
    "# 获取基于持仓增量方法下的筹码分布数据\n",
    "if hasattr(chip_dist_with_inc, 'price_vol') and chip_dist_with_inc.price_vol:\n",
    "    price_bins_with_inc = list(chip_dist_with_inc.price_vol.keys())\n",
    "    chip_density_with_inc = list(chip_dist_with_inc.price_vol.values())\n",
    "else:\n",
    "    # 如果price_vol不存在或为空，创建默认数据\n",
    "    price_bins_with_inc = [current_price - 50, current_price - 25, current_price, current_price + 25, current_price + 50]\n",
    "    chip_density_with_inc = [0.1, 0.2, 0.4, 0.2, 0.1]"
   ]
  },
  {
   "cell_type": "code",
   "execution_count": null,
   "metadata": {},
   "outputs": [],
   "source": [
    "# 计算基于持仓增量方法下的获利比例\n",
    "profit_ratio_with_inc = chip_dist_with_inc.get_profit_ratio(current_price)\n",
    "print(f'基于持仓增量方法计算的当前获利比例: {profit_ratio_with_inc:.2%}')\n",
    "\n",
    "# 获取基于持仓增量方法下的筹码分布数据\n",
    "price_bins_with_inc, chip_density_with_inc = chip_dist_with_inc.get_chip_distribution()"
   ]
  },
  {
   "cell_type": "markdown",
   "metadata": {},
   "source": [
    "## 4. 两种方法的筹码分布对比\n",
    "\n",
    "现在我们将直观对比两种方法计算得到的筹码分布结果。"
   ]
  },
  {
   "cell_type": "code",
   "execution_count": null,
   "metadata": {},
   "outputs": [],
   "source": [
    "# 可视化两种方法的筹码分布对比\n",
    "plt.figure(figsize=(16, 12))\n",
    "\n",
    "# 传统方法筹码分布\n",
    "plt.subplot(2, 1, 1)\n",
    "plt.barh(price_bins_traditional, chip_density_traditional, height=0.1, alpha=0.7)\n",
    "plt.axhline(y=current_price, color='r', linestyle='--', label=f'当前价格: {current_price:.2f}')\n",
    "plt.title(f'传统方法筹码分布，获利比例 = {profit_ratio_traditional:.2%}')\n",
    "plt.xlabel('筹码密度')\n",
    "plt.ylabel('价格')\n",
    "plt.legend()\n",
    "plt.grid(True, linestyle='--', alpha=0.7)\n",
    "\n",
    "# 基于持仓增量方法筹码分布\n",
    "plt.subplot(2, 1, 2)\n",
    "plt.barh(price_bins_with_inc, chip_density_with_inc, height=0.1, alpha=0.7)\n",
    "plt.axhline(y=current_price, color='r', linestyle='--', label=f'当前价格: {current_price:.2f}')\n",
    "plt.title(f'基于持仓增量方法筹码分布，获利比例 = {profit_ratio_with_inc:.2%}')\n",
    "plt.xlabel('筹码密度')\n",
    "plt.ylabel('价格')\n",
    "plt.legend()\n",
    "plt.grid(True, linestyle='--', alpha=0.7)\n",
    "\n",
    "plt.tight_layout()\n",
    "plt.show()"
   ]
  },
  {
   "cell_type": "markdown",
   "metadata": {},
   "source": [
    "## 5. 成本分布对比分析\n",
    "\n",
    "成本分布曲线可以帮助我们了解不同方法下的市场持仓成本结构差异。我们将对比10%、25%、50%、75%、90%等关键百分位的成本价格。"
   ]
  },
  {
   "cell_type": "code",
   "execution_count": null,
   "metadata": {},
   "outputs": [],
   "source": [
    "# 计算不同百分位的成本分布\n",
    "percentiles = [10, 25, 50, 75, 90]  # 10%、25%、50%、75%、90%百分位（使用整数百分比）\n",
    "cost_traditional = []\n",
    "cost_with_inc = []\n",
    "\n",
    "for p in percentiles:\n",
    "    cost_t = chip_dist_traditional.get_cost_distribution(p)\n",
    "    cost_i = chip_dist_with_inc.get_cost_distribution(p)\n",
    "    cost_traditional.append(cost_t)\n",
    "    cost_with_inc.append(cost_i)"
   ]
  },
  {
   "cell_type": "code",
   "execution_count": null,
   "metadata": {},
   "outputs": [],
   "source": [
    "# 创建成本分布对比DataFrame\n",
    "cost_compare_df = pd.DataFrame({\n",
    "    '百分位': [f'{p}%' for p in percentiles],  # 将整数显示为百分比格式\n",
    "    '传统方法': cost_traditional,\n",
    "    '持仓增量方法': cost_with_inc,\n",
    "    '差异百分比': [(c_i - c_t) / c_t * 100 if c_t != 0 else 0 for c_t, c_i in zip(cost_traditional, cost_with_inc)]\n",
    "})\n",
    "print('成本分布对比:')\n",
    "print(cost_compare_df)\n",
    "\n",
    "# 可视化成本分布曲线对比\n",
    "plt.figure(figsize=(12, 6))\n",
    "plt.plot(percentiles, cost_traditional, 'o-', label='传统方法')\n",
    "plt.plot(percentiles, cost_with_inc, 's-', label='持仓增量方法')\n",
    "plt.title('不同方法的成本分布曲线对比')\n",
    "plt.xlabel('百分位 (%)')  # 更新x轴标签为百分比\n",
    "plt.ylabel('成本价格')\n",
    "plt.legend()\n",
    "plt.grid(True)\n",
    "plt.tight_layout()\n",
    "plt.show()"
   ]
  },
  {
   "cell_type": "markdown",
   "metadata": {},
   "source": [
    "## 6. 支撑阻力位识别对比\n",
    "\n",
    "筹码分布的一个重要应用是识别市场中的支撑阻力位。我们将对比两种方法在识别支撑阻力位方面的差异。"
   ]
  },
  {
   "cell_type": "code",
   "execution_count": null,
   "metadata": {},
   "outputs": [],
   "source": [
    "# 导入寻找峰值的工具\n",
    "from scipy.signal import find_peaks\n",
    "\n",
    "# 计算传统方法的筹码峰值（支撑阻力位）\n",
    "price_array_traditional = np.array(price_bins_traditional)\n",
    "density_array_traditional = np.array(chip_density_traditional)\n",
    "peaks_traditional, _ = find_peaks(density_array_traditional, height=np.max(density_array_traditional)*0.3, prominence=0.1)\n",
    "support_resistance_traditional = price_array_traditional[peaks_traditional]\n",
    "\n",
    "# 计算基于持仓增量方法的筹码峰值（支撑阻力位）\n",
    "price_array_with_inc = np.array(price_bins_with_inc)\n",
    "density_array_with_inc = np.array(chip_density_with_inc)\n",
    "peaks_with_inc, _ = find_peaks(density_array_with_inc, height=np.max(density_array_with_inc)*0.3, prominence=0.1)\n",
    "support_resistance_with_inc = price_array_with_inc[peaks_with_inc]\n",
    "\n",
    "# 对比两种方法识别的支撑阻力位\n",
    "print('===== 支撑阻力位对比 =====')\n",
    "print(f'传统方法识别的支撑阻力位: {sorted(support_resistance_traditional)}')\n",
    "print(f'基于持仓增量方法识别的支撑阻力位: {sorted(support_resistance_with_inc)}')\n",
    "\n",
    "# 计算支撑阻力位差异\n",
    "# 为了简化比较，我们取前5个重要的支撑阻力位\n",
    "num_levels = min(5, len(support_resistance_traditional), len(support_resistance_with_inc))\n",
    "sr_diff = []\n",
    "\n",
    "if num_levels > 0:\n",
    "    sorted_traditional = sorted(support_resistance_traditional)\n",
    "    sorted_with_inc = sorted(support_resistance_with_inc)\n",
    "    \n",
    "    for i in range(num_levels):\n",
    "        if i < len(sorted_traditional) and i < len(sorted_with_inc):\n",
    "            diff_pct = (sorted_with_inc[i] - sorted_traditional[i]) / sorted_traditional[i] * 100 if sorted_traditional[i] != 0 else 0\n",
    "            sr_diff.append({'级别': i+1, '传统方法': sorted_traditional[i], '持仓增量方法': sorted_with_inc[i], '差异百分比': diff_pct})"
   ]
  },
  {
   "cell_type": "code",
   "execution_count": null,
   "metadata": {},
   "outputs": [],
   "source": [
    "if sr_diff:\n",
    "    sr_diff_df = pd.DataFrame(sr_diff)\n",
    "    print('支撑阻力位详细对比:')\n",
    "    print(sr_diff_df)"
   ]
  },
  {
   "cell_type": "markdown",
   "metadata": {},
   "source": [
    "## 7. 综合分析与结论\n",
    "\n",
    "通过对比传统筹码分布计算方法与基于持仓增量的筹码分布计算方法，我们可以得出以下结论。"
   ]
  },
  {
   "cell_type": "code",
   "execution_count": null,
   "metadata": {},
   "outputs": [],
   "source": [
    "# 综合分析两种方法的优缺点\n",
    "print('===== 综合分析与结论 =====')\n",
    "print('1. 计算原理差异:')\n",
    "print('   - 传统方法基于换手率计算筹码转移，假设总流通盘固定')\n",
    "print('   - 基于持仓增量的方法考虑了持仓量变化，更适应期货市场特性')\n",
    "\n",
    "print('2. 获利比例差异:')\n",
    "print(f'   - 传统方法获利比例: {profit_ratio_traditional:.2%}')\n",
    "print(f'   - 基于持仓增量方法获利比例: {profit_ratio_with_inc:.2%}')\n",
    "print(f'   - 两者差异: {(profit_ratio_with_inc - profit_ratio_traditional):.2%}')\n",
    "\n",
    "print('3. 成本分布差异:')\n",
    "print('   - 传统方法成本分布更平滑，反映长期平均成本')\n",
    "print('   - 基于持仓增量方法成本分布更敏感，能更快反映近期资金动向')\n",
    "print('   - 关键百分位成本价格存在差异，在某些市场阶段差异显著')\n",
    "\n",
    "print('4. 支撑阻力位识别差异:')\n",
    "print('   - 两种方法识别的支撑阻力位在价格水平上存在差异')\n",
    "print('   - 传统方法识别的支撑阻力位更稳定，持续时间更长')\n",
    "print('   - 基于持仓增量方法识别的支撑阻力位更贴近当前市场状况')\n",
    "\n",
    "print('5. 适用场景分析:')\n",
    "print('   - 传统方法适用于:')\n",
    "print('     * 趋势相对稳定的市场环境')\n",
    "print('     * 中长期投资决策')\n",
    "print('     * 股票等不具有双向交易特性的市场')\n",
    "print('   - 基于持仓增量方法适用于:')\n",
    "print('     * 波动较大、资金博弈激烈的市场环境')\n",
    "print('     * 短期交易决策')\n",
    "print('     * 期货等具有双向交易特性的市场')\n",
    "\n",
    "print('6. 实际应用建议:')\n",
    "print('   - 在实际交易中，建议结合两种方法进行综合分析')\n",
    "print('   - 传统方法用于判断长期趋势和重要支撑阻力位')\n",
    "print('   - 基于持仓增量方法用于把握短期市场变化和资金流向')\n",
    "print('   - 当两种方法信号一致时，决策可信度更高')\n",
    "print('   - 当两种方法信号不一致时，说明市场可能处于转折阶段，需谨慎对待')\n",
    "\n",
    "print('7. 改进方向:')\n",
    "print('   - 可以尝试结合成交量加权和持仓增量加权的混合计算方法')\n",
    "print('   - 研究不同品种的特性，调整计算参数以获得更准确的结果')\n",
    "print('   - 开发更复杂的算法，考虑更多市场因素对筹码分布的影响')"
   ]
  }
 ],
 "metadata": {
  "kernelspec": {
   "display_name": "venv",
   "language": "python",
   "name": "python3"
  },
  "language_info": {
   "codemirror_mode": {
    "name": "ipython",
    "version": 3
   },
   "file_extension": ".py",
   "mimetype": "text/x-python",
   "name": "python",
   "nbconvert_exporter": "python",
   "pygments_lexer": "ipython3",
   "version": "3.10.6"
  }
 },
 "nbformat": 4,
 "nbformat_minor": 4
}
